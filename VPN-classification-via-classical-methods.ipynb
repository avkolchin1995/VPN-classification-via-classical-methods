{
 "cells": [
  {
   "cell_type": "markdown",
   "id": "6526fe13",
   "metadata": {},
   "source": [
    "### Классификация VPN-трафика путем использования классических методов машинного обучения"
   ]
  },
  {
   "cell_type": "code",
   "execution_count": null,
   "id": "352b90c4",
   "metadata": {},
   "outputs": [],
   "source": [
    "# Объявляю нужные библиотеки\n",
    "import pandas as pd # Библиотека для работы с фреймворками\n",
    "import matplotlib.pyplot as plt # Библиотека для визуализации данных\n",
    "import seaborn as sns # Библиотека для визуализации данных\n",
    "import numpy as np # Библиотека для математических операций\n",
    "from sklearn.preprocessing import LabelEncoder # Инструмент разметки текстовых данных в таблице\n",
    "from sklearn.preprocessing import StandardScaler # Инструмент нормализации данных\n",
    "from sklearn.model_selection import train_test_split # Инструмент разбивки на тренировочную и тестовую выборки\n",
    "from sklearn.metrics import confusion_matrix, ConfusionMatrixDisplay, classification_report # Матрица ошибок и отчет по классификации\n",
    "from sklearn.linear_model import LogisticRegression # Метод LogisticRegression\n",
    "from sklearn.neighbors import KNeighborsClassifier # Метод KNN\n",
    "from sklearn.ensemble import RandomForestClassifier # Метод RandomForestTree"
   ]
  },
  {
   "cell_type": "code",
   "execution_count": 270,
   "id": "75ad7b10",
   "metadata": {},
   "outputs": [
    {
     "data": {
      "application/vnd.microsoft.datawrangler.viewer.v0+json": {
       "columns": [
        {
         "name": "index",
         "rawType": "int64",
         "type": "integer"
        },
        {
         "name": "Version",
         "rawType": "int64",
         "type": "integer"
        },
        {
         "name": "Protocol",
         "rawType": "int64",
         "type": "integer"
        },
        {
         "name": "TTL",
         "rawType": "int64",
         "type": "integer"
        },
        {
         "name": "SrcAddress",
         "rawType": "object",
         "type": "string"
        },
        {
         "name": "DestAddress",
         "rawType": "object",
         "type": "string"
        },
        {
         "name": "SrcPort",
         "rawType": "int64",
         "type": "integer"
        },
        {
         "name": "DestPort",
         "rawType": "int64",
         "type": "integer"
        },
        {
         "name": "SeqNum",
         "rawType": "int64",
         "type": "integer"
        },
        {
         "name": "AckNum",
         "rawType": "int64",
         "type": "integer"
        },
        {
         "name": "Flag",
         "rawType": "object",
         "type": "string"
        },
        {
         "name": "DataSize",
         "rawType": "int64",
         "type": "integer"
        },
        {
         "name": "Service",
         "rawType": "object",
         "type": "string"
        },
        {
         "name": "Label",
         "rawType": "int64",
         "type": "integer"
        }
       ],
       "conversionMethod": "pd.DataFrame",
       "ref": "5936e781-c7f9-42d4-913a-3dde20e2781d",
       "rows": [
        [
         "0",
         "4",
         "6",
         "236",
         "143.204.73.4",
         "10.19.0.35",
         "443",
         "38334",
         "2781011508",
         "1856855387",
         "SYN-ACK",
         "0",
         "HTTPS",
         "1"
        ],
        [
         "1",
         "4",
         "6",
         "229",
         "34.215.209.228",
         "10.19.0.35",
         "443",
         "36674",
         "2683269580",
         "686503037",
         "SYN-ACK",
         "0",
         "HTTPS",
         "1"
        ],
        [
         "2",
         "4",
         "6",
         "236",
         "143.204.73.4",
         "10.19.0.35",
         "443",
         "38334",
         "2781011509",
         "1856855904",
         "ACK",
         "0",
         "HTTPS",
         "1"
        ],
        [
         "3",
         "4",
         "6",
         "236",
         "143.204.73.4",
         "10.19.0.35",
         "443",
         "38334",
         "2781011509",
         "1856855904",
         "ACK",
         "1313",
         "HTTPS",
         "1"
        ],
        [
         "4",
         "4",
         "6",
         "236",
         "143.204.73.4",
         "10.19.0.35",
         "443",
         "38334",
         "2781012822",
         "1856855904",
         "PSH-ACK",
         "1313",
         "HTTPS",
         "1"
        ]
       ],
       "shape": {
        "columns": 13,
        "rows": 5
       }
      },
      "text/html": [
       "<div>\n",
       "<style scoped>\n",
       "    .dataframe tbody tr th:only-of-type {\n",
       "        vertical-align: middle;\n",
       "    }\n",
       "\n",
       "    .dataframe tbody tr th {\n",
       "        vertical-align: top;\n",
       "    }\n",
       "\n",
       "    .dataframe thead th {\n",
       "        text-align: right;\n",
       "    }\n",
       "</style>\n",
       "<table border=\"1\" class=\"dataframe\">\n",
       "  <thead>\n",
       "    <tr style=\"text-align: right;\">\n",
       "      <th></th>\n",
       "      <th>Version</th>\n",
       "      <th>Protocol</th>\n",
       "      <th>TTL</th>\n",
       "      <th>SrcAddress</th>\n",
       "      <th>DestAddress</th>\n",
       "      <th>SrcPort</th>\n",
       "      <th>DestPort</th>\n",
       "      <th>SeqNum</th>\n",
       "      <th>AckNum</th>\n",
       "      <th>Flag</th>\n",
       "      <th>DataSize</th>\n",
       "      <th>Service</th>\n",
       "      <th>Label</th>\n",
       "    </tr>\n",
       "  </thead>\n",
       "  <tbody>\n",
       "    <tr>\n",
       "      <th>0</th>\n",
       "      <td>4</td>\n",
       "      <td>6</td>\n",
       "      <td>236</td>\n",
       "      <td>143.204.73.4</td>\n",
       "      <td>10.19.0.35</td>\n",
       "      <td>443</td>\n",
       "      <td>38334</td>\n",
       "      <td>2781011508</td>\n",
       "      <td>1856855387</td>\n",
       "      <td>SYN-ACK</td>\n",
       "      <td>0</td>\n",
       "      <td>HTTPS</td>\n",
       "      <td>1</td>\n",
       "    </tr>\n",
       "    <tr>\n",
       "      <th>1</th>\n",
       "      <td>4</td>\n",
       "      <td>6</td>\n",
       "      <td>229</td>\n",
       "      <td>34.215.209.228</td>\n",
       "      <td>10.19.0.35</td>\n",
       "      <td>443</td>\n",
       "      <td>36674</td>\n",
       "      <td>2683269580</td>\n",
       "      <td>686503037</td>\n",
       "      <td>SYN-ACK</td>\n",
       "      <td>0</td>\n",
       "      <td>HTTPS</td>\n",
       "      <td>1</td>\n",
       "    </tr>\n",
       "    <tr>\n",
       "      <th>2</th>\n",
       "      <td>4</td>\n",
       "      <td>6</td>\n",
       "      <td>236</td>\n",
       "      <td>143.204.73.4</td>\n",
       "      <td>10.19.0.35</td>\n",
       "      <td>443</td>\n",
       "      <td>38334</td>\n",
       "      <td>2781011509</td>\n",
       "      <td>1856855904</td>\n",
       "      <td>ACK</td>\n",
       "      <td>0</td>\n",
       "      <td>HTTPS</td>\n",
       "      <td>1</td>\n",
       "    </tr>\n",
       "    <tr>\n",
       "      <th>3</th>\n",
       "      <td>4</td>\n",
       "      <td>6</td>\n",
       "      <td>236</td>\n",
       "      <td>143.204.73.4</td>\n",
       "      <td>10.19.0.35</td>\n",
       "      <td>443</td>\n",
       "      <td>38334</td>\n",
       "      <td>2781011509</td>\n",
       "      <td>1856855904</td>\n",
       "      <td>ACK</td>\n",
       "      <td>1313</td>\n",
       "      <td>HTTPS</td>\n",
       "      <td>1</td>\n",
       "    </tr>\n",
       "    <tr>\n",
       "      <th>4</th>\n",
       "      <td>4</td>\n",
       "      <td>6</td>\n",
       "      <td>236</td>\n",
       "      <td>143.204.73.4</td>\n",
       "      <td>10.19.0.35</td>\n",
       "      <td>443</td>\n",
       "      <td>38334</td>\n",
       "      <td>2781012822</td>\n",
       "      <td>1856855904</td>\n",
       "      <td>PSH-ACK</td>\n",
       "      <td>1313</td>\n",
       "      <td>HTTPS</td>\n",
       "      <td>1</td>\n",
       "    </tr>\n",
       "  </tbody>\n",
       "</table>\n",
       "</div>"
      ],
      "text/plain": [
       "   Version  Protocol  TTL      SrcAddress DestAddress  SrcPort  DestPort  \\\n",
       "0        4         6  236    143.204.73.4  10.19.0.35      443     38334   \n",
       "1        4         6  229  34.215.209.228  10.19.0.35      443     36674   \n",
       "2        4         6  236    143.204.73.4  10.19.0.35      443     38334   \n",
       "3        4         6  236    143.204.73.4  10.19.0.35      443     38334   \n",
       "4        4         6  236    143.204.73.4  10.19.0.35      443     38334   \n",
       "\n",
       "       SeqNum      AckNum     Flag  DataSize Service  Label  \n",
       "0  2781011508  1856855387  SYN-ACK         0   HTTPS      1  \n",
       "1  2683269580   686503037  SYN-ACK         0   HTTPS      1  \n",
       "2  2781011509  1856855904      ACK         0   HTTPS      1  \n",
       "3  2781011509  1856855904      ACK      1313   HTTPS      1  \n",
       "4  2781012822  1856855904  PSH-ACK      1313   HTTPS      1  "
      ]
     },
     "execution_count": 270,
     "metadata": {},
     "output_type": "execute_result"
    }
   ],
   "source": [
    "# Загрузка датасета из csv-файла\n",
    "df = pd.read_csv('vpnDataset.csv', sep=',')\n",
    "df.head()"
   ]
  },
  {
   "cell_type": "code",
   "execution_count": 271,
   "id": "b561dba2",
   "metadata": {},
   "outputs": [
    {
     "name": "stdout",
     "output_type": "stream",
     "text": [
      "<class 'pandas.core.frame.DataFrame'>\n",
      "RangeIndex: 40289 entries, 0 to 40288\n",
      "Data columns (total 13 columns):\n",
      " #   Column       Non-Null Count  Dtype \n",
      "---  ------       --------------  ----- \n",
      " 0   Version      40289 non-null  int64 \n",
      " 1   Protocol     40289 non-null  int64 \n",
      " 2   TTL          40289 non-null  int64 \n",
      " 3   SrcAddress   40289 non-null  object\n",
      " 4   DestAddress  40289 non-null  object\n",
      " 5   SrcPort      40289 non-null  int64 \n",
      " 6   DestPort     40289 non-null  int64 \n",
      " 7   SeqNum       40289 non-null  int64 \n",
      " 8   AckNum       40289 non-null  int64 \n",
      " 9   Flag         40289 non-null  object\n",
      " 10  DataSize     40289 non-null  int64 \n",
      " 11  Service      40289 non-null  object\n",
      " 12  Label        40289 non-null  int64 \n",
      "dtypes: int64(9), object(4)\n",
      "memory usage: 4.0+ MB\n"
     ]
    }
   ],
   "source": [
    "# Информация о датасете\n",
    "df.info()"
   ]
  },
  {
   "cell_type": "markdown",
   "id": "f56486c2",
   "metadata": {},
   "source": [
    "### Предобработка табличных данных"
   ]
  },
  {
   "cell_type": "code",
   "execution_count": 272,
   "id": "5a1c7275",
   "metadata": {},
   "outputs": [
    {
     "data": {
      "application/vnd.microsoft.datawrangler.viewer.v0+json": {
       "columns": [
        {
         "name": "index",
         "rawType": "int64",
         "type": "integer"
        },
        {
         "name": "Version",
         "rawType": "int64",
         "type": "integer"
        },
        {
         "name": "Protocol",
         "rawType": "int64",
         "type": "integer"
        },
        {
         "name": "TTL",
         "rawType": "int64",
         "type": "integer"
        },
        {
         "name": "SrcAddress",
         "rawType": "int64",
         "type": "integer"
        },
        {
         "name": "DestAddress",
         "rawType": "int64",
         "type": "integer"
        },
        {
         "name": "SrcPort",
         "rawType": "int64",
         "type": "integer"
        },
        {
         "name": "DestPort",
         "rawType": "int64",
         "type": "integer"
        },
        {
         "name": "SeqNum",
         "rawType": "int64",
         "type": "integer"
        },
        {
         "name": "AckNum",
         "rawType": "int64",
         "type": "integer"
        },
        {
         "name": "Flag",
         "rawType": "int64",
         "type": "integer"
        },
        {
         "name": "DataSize",
         "rawType": "int64",
         "type": "integer"
        },
        {
         "name": "Service",
         "rawType": "int64",
         "type": "integer"
        },
        {
         "name": "Label",
         "rawType": "int64",
         "type": "integer"
        }
       ],
       "conversionMethod": "pd.DataFrame",
       "ref": "64ea724a-8a2a-4d3b-aca3-59a8285007c0",
       "rows": [
        [
         "0",
         "4",
         "6",
         "236",
         "56",
         "0",
         "443",
         "38334",
         "2781011508",
         "1856855387",
         "4",
         "0",
         "1",
         "1"
        ],
        [
         "1",
         "4",
         "6",
         "229",
         "132",
         "0",
         "443",
         "36674",
         "2683269580",
         "686503037",
         "4",
         "0",
         "1",
         "1"
        ],
        [
         "2",
         "4",
         "6",
         "236",
         "56",
         "0",
         "443",
         "38334",
         "2781011509",
         "1856855904",
         "0",
         "0",
         "1",
         "1"
        ],
        [
         "3",
         "4",
         "6",
         "236",
         "56",
         "0",
         "443",
         "38334",
         "2781011509",
         "1856855904",
         "0",
         "1313",
         "1",
         "1"
        ],
        [
         "4",
         "4",
         "6",
         "236",
         "56",
         "0",
         "443",
         "38334",
         "2781012822",
         "1856855904",
         "3",
         "1313",
         "1",
         "1"
        ]
       ],
       "shape": {
        "columns": 13,
        "rows": 5
       }
      },
      "text/html": [
       "<div>\n",
       "<style scoped>\n",
       "    .dataframe tbody tr th:only-of-type {\n",
       "        vertical-align: middle;\n",
       "    }\n",
       "\n",
       "    .dataframe tbody tr th {\n",
       "        vertical-align: top;\n",
       "    }\n",
       "\n",
       "    .dataframe thead th {\n",
       "        text-align: right;\n",
       "    }\n",
       "</style>\n",
       "<table border=\"1\" class=\"dataframe\">\n",
       "  <thead>\n",
       "    <tr style=\"text-align: right;\">\n",
       "      <th></th>\n",
       "      <th>Version</th>\n",
       "      <th>Protocol</th>\n",
       "      <th>TTL</th>\n",
       "      <th>SrcAddress</th>\n",
       "      <th>DestAddress</th>\n",
       "      <th>SrcPort</th>\n",
       "      <th>DestPort</th>\n",
       "      <th>SeqNum</th>\n",
       "      <th>AckNum</th>\n",
       "      <th>Flag</th>\n",
       "      <th>DataSize</th>\n",
       "      <th>Service</th>\n",
       "      <th>Label</th>\n",
       "    </tr>\n",
       "  </thead>\n",
       "  <tbody>\n",
       "    <tr>\n",
       "      <th>0</th>\n",
       "      <td>4</td>\n",
       "      <td>6</td>\n",
       "      <td>236</td>\n",
       "      <td>56</td>\n",
       "      <td>0</td>\n",
       "      <td>443</td>\n",
       "      <td>38334</td>\n",
       "      <td>2781011508</td>\n",
       "      <td>1856855387</td>\n",
       "      <td>4</td>\n",
       "      <td>0</td>\n",
       "      <td>1</td>\n",
       "      <td>1</td>\n",
       "    </tr>\n",
       "    <tr>\n",
       "      <th>1</th>\n",
       "      <td>4</td>\n",
       "      <td>6</td>\n",
       "      <td>229</td>\n",
       "      <td>132</td>\n",
       "      <td>0</td>\n",
       "      <td>443</td>\n",
       "      <td>36674</td>\n",
       "      <td>2683269580</td>\n",
       "      <td>686503037</td>\n",
       "      <td>4</td>\n",
       "      <td>0</td>\n",
       "      <td>1</td>\n",
       "      <td>1</td>\n",
       "    </tr>\n",
       "    <tr>\n",
       "      <th>2</th>\n",
       "      <td>4</td>\n",
       "      <td>6</td>\n",
       "      <td>236</td>\n",
       "      <td>56</td>\n",
       "      <td>0</td>\n",
       "      <td>443</td>\n",
       "      <td>38334</td>\n",
       "      <td>2781011509</td>\n",
       "      <td>1856855904</td>\n",
       "      <td>0</td>\n",
       "      <td>0</td>\n",
       "      <td>1</td>\n",
       "      <td>1</td>\n",
       "    </tr>\n",
       "    <tr>\n",
       "      <th>3</th>\n",
       "      <td>4</td>\n",
       "      <td>6</td>\n",
       "      <td>236</td>\n",
       "      <td>56</td>\n",
       "      <td>0</td>\n",
       "      <td>443</td>\n",
       "      <td>38334</td>\n",
       "      <td>2781011509</td>\n",
       "      <td>1856855904</td>\n",
       "      <td>0</td>\n",
       "      <td>1313</td>\n",
       "      <td>1</td>\n",
       "      <td>1</td>\n",
       "    </tr>\n",
       "    <tr>\n",
       "      <th>4</th>\n",
       "      <td>4</td>\n",
       "      <td>6</td>\n",
       "      <td>236</td>\n",
       "      <td>56</td>\n",
       "      <td>0</td>\n",
       "      <td>443</td>\n",
       "      <td>38334</td>\n",
       "      <td>2781012822</td>\n",
       "      <td>1856855904</td>\n",
       "      <td>3</td>\n",
       "      <td>1313</td>\n",
       "      <td>1</td>\n",
       "      <td>1</td>\n",
       "    </tr>\n",
       "  </tbody>\n",
       "</table>\n",
       "</div>"
      ],
      "text/plain": [
       "   Version  Protocol  TTL  SrcAddress  DestAddress  SrcPort  DestPort  \\\n",
       "0        4         6  236          56            0      443     38334   \n",
       "1        4         6  229         132            0      443     36674   \n",
       "2        4         6  236          56            0      443     38334   \n",
       "3        4         6  236          56            0      443     38334   \n",
       "4        4         6  236          56            0      443     38334   \n",
       "\n",
       "       SeqNum      AckNum  Flag  DataSize  Service  Label  \n",
       "0  2781011508  1856855387     4         0        1      1  \n",
       "1  2683269580   686503037     4         0        1      1  \n",
       "2  2781011509  1856855904     0         0        1      1  \n",
       "3  2781011509  1856855904     0      1313        1      1  \n",
       "4  2781012822  1856855904     3      1313        1      1  "
      ]
     },
     "execution_count": 272,
     "metadata": {},
     "output_type": "execute_result"
    }
   ],
   "source": [
    "# Разметка ряда столбцов\n",
    "le = LabelEncoder()\n",
    "df['SrcAddress'] = le.fit_transform(df['SrcAddress'])\n",
    "df['DestAddress'] = le.fit_transform(df['DestAddress'])\n",
    "df['Flag'] = le.fit_transform(df['Flag'])\n",
    "df['Service'] = le.fit_transform(df['Service'])\n",
    "df.head()"
   ]
  },
  {
   "cell_type": "code",
   "execution_count": 273,
   "id": "6eddb066",
   "metadata": {},
   "outputs": [],
   "source": [
    "# Разбиение таблицы на матрицу признаков и объектов\n",
    "X_data = df.iloc[:,:-1].to_numpy() # массив признаков\n",
    "Y_data = df['Label'].to_numpy() # массив объектов"
   ]
  },
  {
   "cell_type": "code",
   "execution_count": 274,
   "id": "f5ec9ac8",
   "metadata": {},
   "outputs": [],
   "source": [
    "# Нормализация массива признаков\n",
    "scaler = StandardScaler()\n",
    "X_data = scaler.fit_transform(X_data)"
   ]
  },
  {
   "cell_type": "code",
   "execution_count": 275,
   "id": "32e4ccb5",
   "metadata": {},
   "outputs": [],
   "source": [
    "# Разбиение на тренировочную и тестовую выборки\n",
    "X_train, X_test, Y_train, Y_test = train_test_split(X_data, Y_data, train_size=0.77, shuffle=True, random_state=18)"
   ]
  },
  {
   "cell_type": "markdown",
   "id": "a0112ed5",
   "metadata": {},
   "source": [
    "### Обучение и проверка моделей на основе LogisticRegression, KNN, RandomForestTree и XGBoost"
   ]
  },
  {
   "cell_type": "code",
   "execution_count": 276,
   "id": "24cf2683",
   "metadata": {},
   "outputs": [
    {
     "data": {
      "text/plain": [
       "<Figure size 600x600 with 0 Axes>"
      ]
     },
     "metadata": {},
     "output_type": "display_data"
    },
    {
     "data": {
      "image/png": "[encoded data removed]",
      "text/plain": [
       "<Figure size 640x480 with 2 Axes>"
      ]
     },
     "metadata": {},
     "output_type": "display_data"
    }
   ],
   "source": [
    "# Обучение и проверка модели на основе LogisticRegression\n",
    "model_LR = LogisticRegression(solver='saga', penalty='elasticnet', max_iter=10**6, l1_ratio=0.5) # инициализация модели на основе LogisticRegression\n",
    "model_LR.fit(X_train,Y_train) # обучение модели\n",
    "Y_pred = model_LR.predict(X_test) # тестирование модели\n",
    "cm_model_LR = confusion_matrix(Y_test,Y_pred, normalize='all') # матрица ошибок\n",
    "#\n",
    "#Визуализация матрицы ошибок\n",
    "plt.figure(figsize=(6,6))\n",
    "graph = ConfusionMatrixDisplay(confusion_matrix=cm_model_LR, display_labels=model_LR.classes_)\n",
    "graph.plot(cmap='Spectral', values_format='.2f')\n",
    "plt.xlabel('Y_pred')\n",
    "plt.ylabel('Y_test')\n",
    "plt.title('Матрица ошибок')\n",
    "plt.show()"
   ]
  },
  {
   "cell_type": "code",
   "execution_count": 277,
   "id": "b04e30f5",
   "metadata": {},
   "outputs": [
    {
     "data": {
      "text/plain": [
       "<Figure size 600x600 with 0 Axes>"
      ]
     },
     "metadata": {},
     "output_type": "display_data"
    },
    {
     "data": {
      "image/png": "[encoded data removed]",
      "text/plain": [
       "<Figure size 640x480 with 2 Axes>"
      ]
     },
     "metadata": {},
     "output_type": "display_data"
    }
   ],
   "source": [
    "# Обучение и проверка модели на основе KNN\n",
    "model_KNN = KNeighborsClassifier(n_neighbors=10**1) # инициализация модели на основе KNN\n",
    "model_KNN.fit(X_train,Y_train) # обучение модели\n",
    "Y_pred = model_KNN.predict(X_test) # тестирование модели\n",
    "cm_model_KNN = confusion_matrix(Y_test,Y_pred, normalize='all') # матрица ошибок\n",
    "#\n",
    "#Визуализация матрицы ошибок\n",
    "plt.figure(figsize=(6,6))\n",
    "graph = ConfusionMatrixDisplay(confusion_matrix=cm_model_KNN, display_labels=model_KNN.classes_)\n",
    "graph.plot(cmap='Spectral', values_format='.2f')\n",
    "plt.xlabel('Y_pred')\n",
    "plt.ylabel('Y_test')\n",
    "plt.title('Матрица ошибок')\n",
    "plt.show()"
   ]
  },
  {
   "cell_type": "code",
   "execution_count": 278,
   "id": "7bdc55ac",
   "metadata": {},
   "outputs": [
    {
     "data": {
      "text/plain": [
       "<Figure size 600x600 with 0 Axes>"
      ]
     },
     "metadata": {},
     "output_type": "display_data"
    },
    {
     "data": {
      "image/png": "[encoded data removed]",
      "text/plain": [
       "<Figure size 640x480 with 2 Axes>"
      ]
     },
     "metadata": {},
     "output_type": "display_data"
    }
   ],
   "source": [
    "# Обучение и проверка модели на основе RandomForestTree\n",
    "model_RFT = RandomForestClassifier(random_state=18) # инициализация модели на основе RandomForestTree\n",
    "model_RFT.fit(X_train, Y_train) # обучение модели\n",
    "Y_pred = model_RFT.predict(X_test) # тестирование модели\n",
    "cm_model_RFT = confusion_matrix(Y_test,Y_pred, normalize='all') # матрица ошибок\n",
    "#\n",
    "#Визуализация матрицы ошибок\n",
    "plt.figure(figsize=(6,6))\n",
    "graph = ConfusionMatrixDisplay(confusion_matrix=cm_model_RFT, display_labels=model_RFT.classes_)\n",
    "graph.plot(cmap='Spectral', values_format='.2f')\n",
    "plt.xlabel('Y_pred')\n",
    "plt.ylabel('Y_test')\n",
    "plt.title('Матрица ошибок')\n",
    "plt.show()"
   ]
  }
 ],
 "metadata": {
  "kernelspec": {
   "display_name": "myenv",
   "language": "python",
   "name": "python3"
  },
  "language_info": {
   "codemirror_mode": {
    "name": "ipython",
    "version": 3
   },
   "file_extension": ".py",
   "mimetype": "text/x-python",
   "name": "python",
   "nbconvert_exporter": "python",
   "pygments_lexer": "ipython3",
   "version": "3.12.3"
  }
 },
 "nbformat": 4,
 "nbformat_minor": 5
}
