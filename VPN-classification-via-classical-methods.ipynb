{
 "cells": [
  {
   "cell_type": "code",
   "execution_count": null,
   "id": "352b90c4",
   "metadata": {},
   "outputs": [],
   "source": [
    "# Объявляю нужные библиотеки\n",
    "import pandas as pd # Библиотека для работы с фреймворками\n",
    "import matplotlib.pyplot as plt # Библиотека для визуализации данных\n",
    "import seaborn as sns # Библиотека для визуализации данных\n",
    "import numpy as np # Библиотека для математических операций"
   ]
  },
  {
   "cell_type": "code",
   "execution_count": null,
   "id": "75ad7b10",
   "metadata": {},
   "outputs": [],
   "source": [
    "# Загрузка датасета из csv-файла\n",
    "df = pd.read_csv('vpnDataset.csv', sep=',')\n",
    "df"
   ]
  }
 ],
 "metadata": {
  "language_info": {
   "name": "python"
  }
 },
 "nbformat": 4,
 "nbformat_minor": 5
}
